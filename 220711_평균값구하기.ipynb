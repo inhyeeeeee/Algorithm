{
  "nbformat": 4,
  "nbformat_minor": 0,
  "metadata": {
    "colab": {
      "name": "220711_평균값구하기.ipynb",
      "provenance": [],
      "authorship_tag": "ABX9TyNTYd3RlVK8BBItrHLNFncs",
      "include_colab_link": true
    },
    "kernelspec": {
      "name": "python3",
      "display_name": "Python 3"
    },
    "language_info": {
      "name": "python"
    }
  },
  "cells": [
    {
      "cell_type": "markdown",
      "metadata": {
        "id": "view-in-github",
        "colab_type": "text"
      },
      "source": [
        "<a href=\"https://colab.research.google.com/github/inhyeeeeee/Algorithm/blob/main/220711_%ED%8F%89%EA%B7%A0%EA%B0%92%EA%B5%AC%ED%95%98%EA%B8%B0.ipynb\" target=\"_parent\"><img src=\"https://colab.research.google.com/assets/colab-badge.svg\" alt=\"Open In Colab\"/></a>"
      ]
    },
    {
      "cell_type": "code",
      "execution_count": 13,
      "metadata": {
        "id": "MKzIFPx38uOy"
      },
      "outputs": [],
      "source": [
        "# ※ 출처 : SW Expert 아카데미\n",
        "\n",
        "# 10개의 수를 입력 받아, 평균값을 출력하는 프로그램을 작성하라.\n",
        "# (소수점 첫째 자리에서 반올림한 정수를 출력한다.)\n",
        "\n",
        "# [제약 사항]\n",
        "# 각 수는 0 이상 10000 이하의 정수이다.\n",
        "\n",
        "# [입력]\n",
        "# 가장 첫 줄에는 테스트 케이스의 개수 T가 주어지고, 그 아래로 각 테스트 케이스가 주어진다.\n",
        "# 각 테스트 케이스의 첫 번째 줄에는 10개의 수가 주어진다.\n",
        "\n",
        "# [출력]\n",
        "# 출력의 각 줄은 '#t'로 시작하고, 공백을 한 칸 둔 다음 정답을 출력한다.\n",
        "# (t는 테스트 케이스의 번호를 의미하며 1부터 시작한다.)\n",
        "\n",
        "# 입력\n",
        "# 3\n",
        "# 3 17 1 39 8 41 2 32 99 2\n",
        "# 22 8 5 123 7 2 63 7 3 46\n",
        "# 6 63 2 3 58 76 21 33 8 1   \n",
        "\n",
        "# 출력\n",
        "# #1 24\n",
        "# #2 29\n",
        "# #3 27"
      ]
    },
    {
      "cell_type": "code",
      "source": [
        "for t in range(int(input())): # 테스트 케이스 개수 : 3번 반복\n",
        "  data = input().split() # 입력 데이터 : 10개\n",
        "  output=0\n",
        "  for i in data: # 입력 받은 리스트에서 하나씩 빼기\n",
        "    i =int(i) # i 를 정수형으로 바꾸기\n",
        "    output += i # i를 더해주기\n",
        "  t +=1\n",
        "  print('#{} {}'.format(t,round(output/10))) # 소수점 첫째자리에서 반올림"
      ],
      "metadata": {
        "colab": {
          "base_uri": "https://localhost:8080/"
        },
        "id": "CYKtW4wo9LJ6",
        "outputId": "36071667-7baf-4d7d-fb67-fd42873d21c6"
      },
      "execution_count": 17,
      "outputs": [
        {
          "output_type": "stream",
          "name": "stdout",
          "text": [
            "3\n",
            "3 17 1 39 8 41 2 32 99 2\n",
            "#1 24\n",
            "22 8 5 123 7 2 63 7 3 46\n",
            "#2 29\n",
            "6 63 2 3 58 76 21 33 8 1  \n",
            "#3 27\n"
          ]
        }
      ]
    },
    {
      "cell_type": "code",
      "source": [
        "for t in range(int(input())):\n",
        "  result = sum([ i for i in map(int, input().split())])/10\n",
        "  print(f'#{t+1} {round(result)}')"
      ],
      "metadata": {
        "colab": {
          "base_uri": "https://localhost:8080/"
        },
        "id": "AOjxvR16__Tq",
        "outputId": "2f302bdd-c903-4a94-b27a-b812ef836301"
      },
      "execution_count": 20,
      "outputs": [
        {
          "output_type": "stream",
          "name": "stdout",
          "text": [
            "3\n",
            "3 17 1 39 8 41 2 32 99 2\n",
            "#1 24\n",
            "22 8 5 123 7 2 63 7 3 46\n",
            "#2 29\n",
            "6 63 2 3 58 76 21 33 8 1 \n",
            "#3 27\n"
          ]
        }
      ]
    },
    {
      "cell_type": "code",
      "source": [
        ""
      ],
      "metadata": {
        "id": "5VtDGtCdJSIU"
      },
      "execution_count": null,
      "outputs": []
    }
  ]
}