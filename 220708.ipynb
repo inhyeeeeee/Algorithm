{
  "nbformat": 4,
  "nbformat_minor": 0,
  "metadata": {
    "colab": {
      "name": "220708.ipynb",
      "provenance": [],
      "collapsed_sections": [],
      "authorship_tag": "ABX9TyNRg1TePZOeJBzpLvfXA2I0",
      "include_colab_link": true
    },
    "kernelspec": {
      "name": "python3",
      "display_name": "Python 3"
    },
    "language_info": {
      "name": "python"
    }
  },
  "cells": [
    {
      "cell_type": "markdown",
      "metadata": {
        "id": "view-in-github",
        "colab_type": "text"
      },
      "source": [
        "<a href=\"https://colab.research.google.com/github/inhyeeeeee/Algorithm/blob/main/220708.ipynb\" target=\"_parent\"><img src=\"https://colab.research.google.com/assets/colab-badge.svg\" alt=\"Open In Colab\"/></a>"
      ]
    },
    {
      "cell_type": "code",
      "execution_count": 47,
      "metadata": {
        "colab": {
          "base_uri": "https://localhost:8080/"
        },
        "id": "4iZ-m7reqAm8",
        "outputId": "0062c6d7-805a-421e-d6a1-c200e390ca52"
      },
      "outputs": [
        {
          "output_type": "execute_result",
          "data": {
            "text/plain": [
              "3"
            ]
          },
          "metadata": {},
          "execution_count": 47
        }
      ],
      "source": [
        "# 출처 : SW Expert 아카데미\n",
        "\n",
        "# 10개의 수를 입력 받아, 그 중에서 홀수만 더한 값을 출력하는 프로그램을 작성하라.\n",
        "\n",
        "\n",
        "# [제약 사항]\n",
        "\n",
        "# 각 수는 0 이상 10000 이하의 정수이다.\n",
        "\n",
        "\n",
        "# [입력]\n",
        "\n",
        "# 가장 첫 줄에는 테스트 케이스의 개수 T가 주어지고, 그 아래로 각 테스트 케이스가 주어진다.\n",
        "\n",
        "# 각 테스트 케이스의 첫 번째 줄에는 10개의 수가 주어진다.\n",
        "\n",
        "\n",
        "# [출력]\n",
        "\n",
        "# 출력의 각 줄은 '#t'로 시작하고, 공백을 한 칸 둔 다음 정답을 출력한다.\n",
        "\n",
        "# (t는 테스트 케이스의 번호를 의미하며 1부터 시작한다.\n",
        "\n",
        "# 입력\n",
        "# 3\n",
        "# 3 17 1 39 8 41 2 32 99 2\n",
        "# 22 8 5 123 7 2 63 7 3 46\n",
        "# 6 63 2 3 58 76 21 33 8 1 \n",
        "3\n",
        "#1 200\n",
        "#2 208\n",
        "#3 121"
      ]
    },
    {
      "cell_type": "code",
      "source": [
        "for t in range(int(input())): # 3번 반복\n",
        "  data = input().split() # input 리스트 생성\n",
        "  output=0\n",
        "  for i in data: # data 안에서 하나씩 끄집어와\n",
        "    i = int(i) # 끄집어온 데이터를 정수로 바꿔\n",
        "    if i%2 == 1: # 이 정수가 홀수일 때\n",
        "      output += i # 더하기\n",
        "  t +=1\n",
        "  print('#{} {}'.format(t, output))"
      ],
      "metadata": {
        "id": "eSwxgAuPsEeM"
      },
      "execution_count": null,
      "outputs": []
    },
    {
      "cell_type": "code",
      "source": [
        ""
      ],
      "metadata": {
        "id": "436oBnDj5hNx"
      },
      "execution_count": null,
      "outputs": []
    }
  ]
}