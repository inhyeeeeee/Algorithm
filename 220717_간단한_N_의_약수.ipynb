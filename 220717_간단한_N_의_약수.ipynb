{
  "nbformat": 4,
  "nbformat_minor": 0,
  "metadata": {
    "colab": {
      "name": "220717_간단한 N 의 약수.ipynb",
      "provenance": [],
      "authorship_tag": "ABX9TyMYL3/9btALP993HTiTTZGh",
      "include_colab_link": true
    },
    "kernelspec": {
      "name": "python3",
      "display_name": "Python 3"
    },
    "language_info": {
      "name": "python"
    }
  },
  "cells": [
    {
      "cell_type": "markdown",
      "metadata": {
        "id": "view-in-github",
        "colab_type": "text"
      },
      "source": [
        "<a href=\"https://colab.research.google.com/github/inhyeeeeee/Algorithm/blob/main/220717_%EA%B0%84%EB%8B%A8%ED%95%9C_N_%EC%9D%98_%EC%95%BD%EC%88%98.ipynb\" target=\"_parent\"><img src=\"https://colab.research.google.com/assets/colab-badge.svg\" alt=\"Open In Colab\"/></a>"
      ]
    },
    {
      "cell_type": "code",
      "execution_count": 1,
      "metadata": {
        "id": "8ahf6584QrAr"
      },
      "outputs": [],
      "source": [
        "# ※ 출처 : SW Expert 아카데미\n",
        "\n",
        "# 입력으로 1개의 정수 N 이 주어진다.\n",
        "# 정수 N 의 약수를 오름차순으로 출력하는 프로그램을 작성하라.\n",
        " \n",
        "# [제약사항]\n",
        "# N은 1이상 1,000이하의 정수이다. (1 ≤ N ≤ 1,000)\n",
        " \n",
        "# [입력]\n",
        "# 입력으로 정수 N 이 주어진다.\n",
        "\n",
        "# [출력]\n",
        "# 정수 N 의 모든 약수를 오름차순으로 출력한다.\n",
        "\n",
        "# 입력\n",
        "# 10\n",
        "\n",
        "# 출력\n",
        "# 1 2 5 10"
      ]
    },
    {
      "cell_type": "code",
      "source": [
        "n = int(input())\n",
        "output = []\n",
        "for i in range(n):\n",
        "  if n % (i+1) == 0:\n",
        "    output.append(i+1)\n",
        "print(*output)"
      ],
      "metadata": {
        "colab": {
          "base_uri": "https://localhost:8080/"
        },
        "id": "EEw9t7mnQ1dd",
        "outputId": "b5ed11d1-4afb-4abe-a858-29face55f983"
      },
      "execution_count": 9,
      "outputs": [
        {
          "output_type": "stream",
          "name": "stdout",
          "text": [
            "10\n",
            "1 2 5 10\n"
          ]
        }
      ]
    },
    {
      "cell_type": "code",
      "source": [
        "n =int(input())\n",
        "for i in range(1, n+1):\n",
        "  if n % i == 0:\n",
        "     print(i, end=' ')"
      ],
      "metadata": {
        "colab": {
          "base_uri": "https://localhost:8080/"
        },
        "id": "3tYcx0oLUgjh",
        "outputId": "46131bf0-7f54-4dbf-b895-7eb1b1f774d0"
      },
      "execution_count": 15,
      "outputs": [
        {
          "output_type": "stream",
          "name": "stdout",
          "text": [
            "10\n",
            "1 2 5 10 "
          ]
        }
      ]
    },
    {
      "cell_type": "code",
      "source": [
        ""
      ],
      "metadata": {
        "id": "BSAQibs1V_cA"
      },
      "execution_count": null,
      "outputs": []
    }
  ]
}