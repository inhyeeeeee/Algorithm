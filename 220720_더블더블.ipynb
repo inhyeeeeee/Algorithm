{
  "nbformat": 4,
  "nbformat_minor": 0,
  "metadata": {
    "colab": {
      "name": "220720_더블더블.ipynb",
      "provenance": [],
      "authorship_tag": "ABX9TyMvlNaGHqnzJorWxpIGOrFM",
      "include_colab_link": true
    },
    "kernelspec": {
      "name": "python3",
      "display_name": "Python 3"
    },
    "language_info": {
      "name": "python"
    }
  },
  "cells": [
    {
      "cell_type": "markdown",
      "metadata": {
        "id": "view-in-github",
        "colab_type": "text"
      },
      "source": [
        "<a href=\"https://colab.research.google.com/github/inhyeeeeee/Algorithm/blob/main/220720_%EB%8D%94%EB%B8%94%EB%8D%94%EB%B8%94.ipynb\" target=\"_parent\"><img src=\"https://colab.research.google.com/assets/colab-badge.svg\" alt=\"Open In Colab\"/></a>"
      ]
    },
    {
      "cell_type": "code",
      "execution_count": 1,
      "metadata": {
        "id": "ayUl25LYAAtw"
      },
      "outputs": [],
      "source": [
        "# ※ 출처 : SW Expert 아카데미\n",
        "\n",
        "# 1부터 주어진 횟수까지 2를 곱한 값(들)을 출력하시오.\n",
        "# 주어질 숫자는 30을 넘지 않는다.\n",
        "\n",
        "# 입력\n",
        "# 8\n",
        "\n",
        "# 출력\n",
        "# 1 2 4 8 16 32 64 128 256"
      ]
    },
    {
      "cell_type": "code",
      "source": [
        "for i in range(0,int(input())+1):\n",
        "  print(2**i, end=' ')"
      ],
      "metadata": {
        "colab": {
          "base_uri": "https://localhost:8080/"
        },
        "id": "u3l7VnquARNn",
        "outputId": "907fc309-38c8-44ce-d088-d41bb57eba14"
      },
      "execution_count": 10,
      "outputs": [
        {
          "output_type": "stream",
          "name": "stdout",
          "text": [
            "8\n",
            "1 2 4 8 16 32 64 128 256 "
          ]
        }
      ]
    }
  ]
}