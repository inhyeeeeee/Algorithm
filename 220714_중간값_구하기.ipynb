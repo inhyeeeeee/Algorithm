{
  "nbformat": 4,
  "nbformat_minor": 0,
  "metadata": {
    "colab": {
      "name": "220714_중간값 구하기.ipynb",
      "provenance": [],
      "collapsed_sections": [],
      "authorship_tag": "ABX9TyOe0IP/ZzzQXPr0n/A6zJyG",
      "include_colab_link": true
    },
    "kernelspec": {
      "name": "python3",
      "display_name": "Python 3"
    },
    "language_info": {
      "name": "python"
    }
  },
  "cells": [
    {
      "cell_type": "markdown",
      "metadata": {
        "id": "view-in-github",
        "colab_type": "text"
      },
      "source": [
        "<a href=\"https://colab.research.google.com/github/inhyeeeeee/Algorithm/blob/main/220714_%EC%A4%91%EA%B0%84%EA%B0%92_%EA%B5%AC%ED%95%98%EA%B8%B0.ipynb\" target=\"_parent\"><img src=\"https://colab.research.google.com/assets/colab-badge.svg\" alt=\"Open In Colab\"/></a>"
      ]
    },
    {
      "cell_type": "code",
      "execution_count": null,
      "metadata": {
        "id": "hpdE4yw17N15"
      },
      "outputs": [],
      "source": [
        "# ※ 출저 : SW Expert 아카데미\n",
        "\n",
        "# 중간값은 통계 집단의 수치를 크기 순으로 배열 했을 때 전체의 중앙에 위치하는 수치를 뜻한다.\n",
        "# 입력으로 N 개의 점수가 주어졌을 때, 중간값을 출력하라.\n",
        "\n",
        "# [예제]\n",
        "# N이 9 이고, 9개의 점수가 아래와 같이 주어질 경우,\n",
        "# 85 72 38 80 69 65 68 96 22\n",
        "# 69이 중간값이 된다.\n",
        "\n",
        "# [제약 사항]\n",
        "# 1. N은 항상 홀수로 주어진다.\n",
        "# 2. N은 9이상 199 이하의 정수이다. (9 ≤ N ≤ 199)\n",
        "\n",
        "# [입력]\n",
        "# 입력은 첫 줄에 N 이 주어진다.\n",
        "# 둘째 줄에 N 개의 점수가 주어진다.\n",
        "\n",
        "# [출력]\n",
        "# N 개의 점수들 중, 중간값에 해당하는 점수를 정답으로 출력한다.\n",
        " \n",
        "# 입력\n",
        "# 199\n",
        "# 85 72 38 80 69 65 68 96 22 49 67 51 61 63 87 66 24 80 83 71 60 64 52 90 60 49 31 23 99 94 11 25 24 51 15 13 39 67 97 19 76 12 33 99 18 92 35 74 0 95 71 39 33 39 32 37 45 57 71 95 5 71 24 86 8 51 54 74 24 75 70 33 63 29 99 59 94 52 13 35 99 46 57 71 23 17 3 94 48 77 18 83 11 83 25 59 62 2 78 86 7 94 65 80 32 39 84 60 65 72 61 58 84 8 72 12 19 47 49 49 59 71 52 34 22 21 20 92 33 80 39 74 9 28 97 100 93 29 25 4 66 79 81 98 21 91 62 82 4 59 100 34 1 51 80 92 69 77 39 38 97 51 34 35 19 22 1 67 9 90 31 82 11 51 84 78 70 74 42 100 88 53 80 57 62 32 51 48 63 92 46 4 61 31 98 69 52 88 20\n",
        " \n",
        "# 출력\n",
        "# 58"
      ]
    },
    {
      "cell_type": "code",
      "source": [
        "N = int(input()) # n개 의 점수 = 199\n",
        "data = list(map(int, input().split())) # input data 정수형 mapping 후 리스트화\n",
        "data.sort() # 오름차순 정렬 (reverse=Ture)\n",
        "idx = round(N/2)-1 # 인덱스가 0부터 시작이므로 -1\n",
        "print(data[idx]) # 중간값"
      ],
      "metadata": {
        "colab": {
          "base_uri": "https://localhost:8080/"
        },
        "id": "fts1pxPt7tQq",
        "outputId": "31197c6d-6b26-42ed-ba32-0ae71b87aca4"
      },
      "execution_count": 7,
      "outputs": [
        {
          "output_type": "stream",
          "name": "stdout",
          "text": [
            "199\n",
            "  85 72 38 80 69 65 68 96 22 49 67 51 61 63 87 66 24 80 83 71 60 64 52 90 60 49 31 23 99 94 11 25 24 51 15 13 39 67 97 19 76 12 33 99 18 92 35 74 0 95 71 39 33 39 32 37 45 57 71 95 5 71 24 86 8 51 54 74 24 75 70 33 63 29 99 59 94 52 13 35 99 46 57 71 23 17 3 94 48 77 18 83 11 83 25 59 62 2 78 86 7 94 65 80 32 39 84 60 65 72 61 58 84 8 72 12 19 47 49 49 59 71 52 34 22 21 20 92 33 80 39 74 9 28 97 100 93 29 25 4 66 79 81 98 21 91 62 82 4 59 100 34 1 51 80 92 69 77 39 38 97 51 34 35 19 22 1 67 9 90 31 82 11 51 84 78 70 74 42 100 88 53 80 57 62 32 51 48 63 92 46 4 61 31 98 69 52 88 20\n",
            "58\n"
          ]
        }
      ]
    }
  ]
}