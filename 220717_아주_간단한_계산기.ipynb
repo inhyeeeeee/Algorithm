{
  "nbformat": 4,
  "nbformat_minor": 0,
  "metadata": {
    "colab": {
      "name": "220717_아주 간단한 계산기.ipynb",
      "provenance": [],
      "authorship_tag": "ABX9TyOoy/xb3sYR2j+nHa2byb4H",
      "include_colab_link": true
    },
    "kernelspec": {
      "name": "python3",
      "display_name": "Python 3"
    },
    "language_info": {
      "name": "python"
    }
  },
  "cells": [
    {
      "cell_type": "markdown",
      "metadata": {
        "id": "view-in-github",
        "colab_type": "text"
      },
      "source": [
        "<a href=\"https://colab.research.google.com/github/inhyeeeeee/Algorithm/blob/main/220717_%EC%95%84%EC%A3%BC_%EA%B0%84%EB%8B%A8%ED%95%9C_%EA%B3%84%EC%82%B0%EA%B8%B0.ipynb\" target=\"_parent\"><img src=\"https://colab.research.google.com/assets/colab-badge.svg\" alt=\"Open In Colab\"/></a>"
      ]
    },
    {
      "cell_type": "code",
      "execution_count": null,
      "metadata": {
        "id": "rOkFxY2dWf8Y"
      },
      "outputs": [],
      "source": [
        "# ※ 출처 : SW Expert 아카데미\n",
        "\n",
        "# 두 개의 자연수를 입력받아 사칙연산을 수행하는 프로그램을 작성하라.\n",
        "\n",
        "# [제약 사항]\n",
        "# 1. 두 개의 자연수 a, b는 1부터 9까지의 자연수이다. (1 ≤ a, b ≤ 9)\n",
        "# 2. 사칙연산 + , - , * , / 순서로 연산한 결과를 출력한다.\n",
        "# 3. 나누기 연산의 결과에서 소수점 이하의 숫자는 버린다.\n",
        "\n",
        "# [입력]\n",
        "# 입력으로 두 개의 자연수 a, b가 빈 칸을 두고 주어진다.\n",
        "\n",
        "# [출력]\n",
        "# 사칙연산의 결과를 각 줄에 순서대로 출력한다.\n",
        "\n",
        "# 입력\n",
        "# 8 3\n",
        "\n",
        "# 출력\n",
        "# 11\n",
        "# 5\n",
        "# 24\n",
        "# 2"
      ]
    },
    {
      "cell_type": "code",
      "source": [
        "a, b = map(int, input().split())\n",
        "print(a+b)\n",
        "print(a-b)\n",
        "print(a*b)\n",
        "print(a//b)"
      ],
      "metadata": {
        "id": "O0B5mKFzWnVG",
        "colab": {
          "base_uri": "https://localhost:8080/"
        },
        "outputId": "a45f3603-3358-4979-ff8a-76007a5c1ce6"
      },
      "execution_count": 1,
      "outputs": [
        {
          "output_type": "stream",
          "name": "stdout",
          "text": [
            "8 3\n",
            "11\n",
            "5\n",
            "24\n",
            "2\n"
          ]
        }
      ]
    },
    {
      "cell_type": "code",
      "source": [
        ""
      ],
      "metadata": {
        "id": "iyeC-9UIZkNi"
      },
      "execution_count": null,
      "outputs": []
    },
    {
      "cell_type": "code",
      "source": [
        ""
      ],
      "metadata": {
        "id": "-y-RVmIraKPp"
      },
      "execution_count": null,
      "outputs": []
    }
  ]
}