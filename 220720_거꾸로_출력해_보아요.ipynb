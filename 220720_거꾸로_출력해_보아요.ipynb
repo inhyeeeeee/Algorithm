{
  "nbformat": 4,
  "nbformat_minor": 0,
  "metadata": {
    "colab": {
      "name": "220720_거꾸로 출력해 보아요.ipynb",
      "provenance": [],
      "authorship_tag": "ABX9TyMZutLtVxbZjkC3znLdKnlh",
      "include_colab_link": true
    },
    "kernelspec": {
      "name": "python3",
      "display_name": "Python 3"
    },
    "language_info": {
      "name": "python"
    }
  },
  "cells": [
    {
      "cell_type": "markdown",
      "metadata": {
        "id": "view-in-github",
        "colab_type": "text"
      },
      "source": [
        "<a href=\"https://colab.research.google.com/github/inhyeeeeee/Algorithm/blob/main/220720_%EA%B1%B0%EA%BE%B8%EB%A1%9C_%EC%B6%9C%EB%A0%A5%ED%95%B4_%EB%B3%B4%EC%95%84%EC%9A%94.ipynb\" target=\"_parent\"><img src=\"https://colab.research.google.com/assets/colab-badge.svg\" alt=\"Open In Colab\"/></a>"
      ]
    },
    {
      "cell_type": "code",
      "execution_count": 1,
      "metadata": {
        "id": "ayUl25LYAAtw"
      },
      "outputs": [],
      "source": [
        "# ※ 출처 : SW Expert 아카데미\n",
        "\n",
        "# 주어진 숫자부터 0까지 순서대로 찍어보세요\n",
        "\n",
        "# 아래는 입력된 숫자가 N일 때 거꾸로 출력하는 예시입니다\n",
        "\n",
        "# n, n-1, n-2, ... , 0\n",
        "\n",
        "# 입력\n",
        "# 8\n",
        "\n",
        "# 출력\n",
        "# 8 7 6 5 4 3 2 1 0"
      ]
    },
    {
      "cell_type": "code",
      "source": [
        "for i in range(int(input()), -1, -1):\n",
        "  print(i, end=' ')"
      ],
      "metadata": {
        "colab": {
          "base_uri": "https://localhost:8080/"
        },
        "id": "u3l7VnquARNn",
        "outputId": "2a1f807e-590d-4942-9bfb-61a33cb34e77"
      },
      "execution_count": 19,
      "outputs": [
        {
          "output_type": "stream",
          "name": "stdout",
          "text": [
            "8\n",
            "8 7 6 5 4 3 2 1 0 "
          ]
        }
      ]
    },
    {
      "cell_type": "code",
      "source": [
        ""
      ],
      "metadata": {
        "id": "wB6WHBvEF1oR"
      },
      "execution_count": null,
      "outputs": []
    }
  ]
}