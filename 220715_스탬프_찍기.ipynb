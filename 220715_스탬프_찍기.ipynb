{
  "nbformat": 4,
  "nbformat_minor": 0,
  "metadata": {
    "colab": {
      "name": "220715_스탬프 찍기.ipynb",
      "provenance": [],
      "authorship_tag": "ABX9TyM77475flMO/udoGZa2zSv6",
      "include_colab_link": true
    },
    "kernelspec": {
      "name": "python3",
      "display_name": "Python 3"
    },
    "language_info": {
      "name": "python"
    }
  },
  "cells": [
    {
      "cell_type": "markdown",
      "metadata": {
        "id": "view-in-github",
        "colab_type": "text"
      },
      "source": [
        "<a href=\"https://colab.research.google.com/github/inhyeeeeee/Algorithm/blob/main/220715_%EC%8A%A4%ED%83%AC%ED%94%84_%EC%B0%8D%EA%B8%B0.ipynb\" target=\"_parent\"><img src=\"https://colab.research.google.com/assets/colab-badge.svg\" alt=\"Open In Colab\"/></a>"
      ]
    },
    {
      "cell_type": "code",
      "execution_count": 1,
      "metadata": {
        "id": "Q2oXRnSu8V-n"
      },
      "outputs": [],
      "source": [
        "# ※ 출처 : SW Expert 아카데미\n",
        "\n",
        "# 주어진 숫자만큼 # 을 출력해보세요.\n",
        "# 주어질 숫자는 100,000 이하다.\n",
        "\n",
        "# 입력\n",
        "# 3\n",
        "\n",
        "# 출력\n",
        "# ###"
      ]
    },
    {
      "cell_type": "code",
      "source": [
        "data=int(input())\n",
        "print('#'*data)"
      ],
      "metadata": {
        "colab": {
          "base_uri": "https://localhost:8080/"
        },
        "id": "O3oqW2FY8kRX",
        "outputId": "806f1087-d521-4e05-e04e-8974f48bab12"
      },
      "execution_count": 4,
      "outputs": [
        {
          "output_type": "stream",
          "name": "stdout",
          "text": [
            "3\n",
            "###\n"
          ]
        }
      ]
    }
  ]
}