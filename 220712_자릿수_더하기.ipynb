{
  "nbformat": 4,
  "nbformat_minor": 0,
  "metadata": {
    "colab": {
      "name": "220712_자릿수 더하기.ipynb",
      "provenance": [],
      "authorship_tag": "ABX9TyNOqLQgIy+95L5eShOJCcWb",
      "include_colab_link": true
    },
    "kernelspec": {
      "name": "python3",
      "display_name": "Python 3"
    },
    "language_info": {
      "name": "python"
    }
  },
  "cells": [
    {
      "cell_type": "markdown",
      "metadata": {
        "id": "view-in-github",
        "colab_type": "text"
      },
      "source": [
        "<a href=\"https://colab.research.google.com/github/inhyeeeeee/Algorithm/blob/main/220712_%EC%9E%90%EB%A6%BF%EC%88%98_%EB%8D%94%ED%95%98%EA%B8%B0.ipynb\" target=\"_parent\"><img src=\"https://colab.research.google.com/assets/colab-badge.svg\" alt=\"Open In Colab\"/></a>"
      ]
    },
    {
      "cell_type": "code",
      "execution_count": 1,
      "metadata": {
        "id": "GAGjjje6bR5V"
      },
      "outputs": [],
      "source": [
        "# ※ 출처 : SW Expert 아카데미\n",
        "\n",
        "# 하나의 자연수를 입력 받아 각 자릿수의 합을 계산하는 프로그램을 작성하라.\n",
        "\n",
        "# [제약 사항]\n",
        "# 자연수 N은 1부터 9999까지의 자연수이다. (1 ≤ N ≤ 9999)\n",
        "\n",
        "# [입력]\n",
        "# 입력으로 자연수 N이 주어진다.\n",
        "\n",
        "# [출력]\n",
        "# 각 자릿수의 합을 출력한다.\n",
        "\n",
        "# 입력\n",
        "# 6789\n",
        "\n",
        "# 출력\n",
        "# 30"
      ]
    },
    {
      "cell_type": "code",
      "source": [
        "N = input() # input data 입력\n",
        "output = 0\n",
        "for i in str(N): # input data 문자형으로 변경 및 하나씩 뽑음\n",
        "  output+=int(i) # 정수형 i 를 output 에 더함\n",
        "print(output)"
      ],
      "metadata": {
        "colab": {
          "base_uri": "https://localhost:8080/"
        },
        "id": "8Hl_n9kPbbzQ",
        "outputId": "96766494-09f5-415f-8b16-c75bff0d1a90"
      },
      "execution_count": 11,
      "outputs": [
        {
          "output_type": "stream",
          "name": "stdout",
          "text": [
            "6789\n",
            "30\n"
          ]
        }
      ]
    }
  ]
}