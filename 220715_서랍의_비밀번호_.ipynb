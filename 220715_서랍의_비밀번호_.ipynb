{
  "nbformat": 4,
  "nbformat_minor": 0,
  "metadata": {
    "colab": {
      "name": "220715_서랍의 비밀번호 .ipynb",
      "provenance": [],
      "authorship_tag": "ABX9TyPO5pz5DYD8W6+BKLjC1aEL",
      "include_colab_link": true
    },
    "kernelspec": {
      "name": "python3",
      "display_name": "Python 3"
    },
    "language_info": {
      "name": "python"
    }
  },
  "cells": [
    {
      "cell_type": "markdown",
      "metadata": {
        "id": "view-in-github",
        "colab_type": "text"
      },
      "source": [
        "<a href=\"https://colab.research.google.com/github/inhyeeeeee/Algorithm/blob/main/220715_%EC%84%9C%EB%9E%8D%EC%9D%98_%EB%B9%84%EB%B0%80%EB%B2%88%ED%98%B8_.ipynb\" target=\"_parent\"><img src=\"https://colab.research.google.com/assets/colab-badge.svg\" alt=\"Open In Colab\"/></a>"
      ]
    },
    {
      "cell_type": "code",
      "execution_count": null,
      "metadata": {
        "id": "PZN3qX6G-rKZ"
      },
      "outputs": [],
      "source": [
        "# ※ 출처 : SW Expert 아카데미\n",
        "\n",
        "# 서랍의 비밀번호가 생각이 나지 않는다.\n",
        "# 비밀번호 P는 000부터 999까지 번호 중의 하나이다.\n",
        "# 주어지는 번호 K부터 1씩 증가하며 비밀번호를 확인해 볼 생각이다.\n",
        "# 예를 들어 비밀번호 P가 123 이고 주어지는 번호 K가 100 일 때, 100부터 123까지 24번 확인하여 비밀번호를 맞출 수 있다.\n",
        "# P와 K가 주어지면 K부터 시작하여 몇 번 만에 P를 맞출 수 있는지 알아보자.\n",
        "\n",
        "# [입력]\n",
        "# 입력으로 P와 K가 빈 칸을 사이로 주어진다.\n",
        "\n",
        "# [출력]\n",
        "# 몇 번 만에 비밀번호를 맞출 수 있는지 출력한다.\n",
        " \n",
        "# 입력\n",
        "# 123 100\n",
        "\n",
        "# 출력\n",
        "# 24"
      ]
    },
    {
      "cell_type": "code",
      "source": [
        "p, k = map(int, input().split())\n",
        "\n",
        "print(p-k+1)"
      ],
      "metadata": {
        "colab": {
          "base_uri": "https://localhost:8080/"
        },
        "id": "vpKOQNIb-yLM",
        "outputId": "bb39034f-28a1-4c1f-c291-a287b7d4ad30"
      },
      "execution_count": 5,
      "outputs": [
        {
          "output_type": "stream",
          "name": "stdout",
          "text": [
            "123 100\n",
            "24\n"
          ]
        }
      ]
    },
    {
      "cell_type": "code",
      "source": [
        "print(p)"
      ],
      "metadata": {
        "id": "9gyDIyhP_e_f",
        "colab": {
          "base_uri": "https://localhost:8080/"
        },
        "outputId": "030d606c-3a98-46a0-9956-36435cd6ba95"
      },
      "execution_count": 6,
      "outputs": [
        {
          "output_type": "stream",
          "name": "stdout",
          "text": [
            "123\n"
          ]
        }
      ]
    },
    {
      "cell_type": "code",
      "source": [
        "print(k)"
      ],
      "metadata": {
        "colab": {
          "base_uri": "https://localhost:8080/"
        },
        "id": "FLm9z7UjAEhS",
        "outputId": "db650390-996e-4240-f449-09880eb2630d"
      },
      "execution_count": 7,
      "outputs": [
        {
          "output_type": "stream",
          "name": "stdout",
          "text": [
            "100\n"
          ]
        }
      ]
    }
  ]
}