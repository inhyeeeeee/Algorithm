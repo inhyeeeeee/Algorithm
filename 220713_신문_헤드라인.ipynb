{
  "nbformat": 4,
  "nbformat_minor": 0,
  "metadata": {
    "colab": {
      "name": "220713_신문 헤드라인.ipynb",
      "provenance": [],
      "authorship_tag": "ABX9TyPpsWfpJQfycnoQnKKcAk8j",
      "include_colab_link": true
    },
    "kernelspec": {
      "name": "python3",
      "display_name": "Python 3"
    },
    "language_info": {
      "name": "python"
    }
  },
  "cells": [
    {
      "cell_type": "markdown",
      "metadata": {
        "id": "view-in-github",
        "colab_type": "text"
      },
      "source": [
        "<a href=\"https://colab.research.google.com/github/inhyeeeeee/Algorithm/blob/main/220713_%EC%8B%A0%EB%AC%B8_%ED%97%A4%EB%93%9C%EB%9D%BC%EC%9D%B8.ipynb\" target=\"_parent\"><img src=\"https://colab.research.google.com/assets/colab-badge.svg\" alt=\"Open In Colab\"/></a>"
      ]
    },
    {
      "cell_type": "code",
      "execution_count": null,
      "metadata": {
        "id": "ukmCs1rlwLv4"
      },
      "outputs": [],
      "source": [
        "# ※ 출처 : SW Expert 아카데미.\n",
        "\n",
        "# 신문의 헤드라인을 편집하기 위해, 주어지는 문자열의 알파벳 소문자를 모두 대문자로 바꾸는 프로그램을 개발 중이다.\n",
        "# 입력으로 주어진 문장에 모든 소문자 알파벳을 찾아 대문자로 변환한 다음, 그 결과를 출력하는 프로그램을 작성하라.\n",
        "\n",
        "\n",
        "# [예제 풀이]\n",
        "# The_headline_is_the_text_indicating_the_nature_of_the_article_below_it.\n",
        "# 위와 같은 문자열이 입력으로 주어졌을 때, 출력은 다음과 같다.\n",
        "# THE_HEADLINE_IS_THE_TEXT_INDICATING_THE_NATURE_OF_THE_ARTICLE_BELOW_IT.\n",
        "\n",
        "# [제약 사항]\n",
        "# 문자열의 최대 길이는 80 bytes 이다.\n",
        "\n",
        "# [입력]\n",
        "# 입력으로 80 bytes 이하의 길이를 가진 문자열이 주어진다.\n",
        "\n",
        "# [출력]\n",
        "# 문자열의 소문자를 모두 대문자로 변경한 결과를 출력한다.\n",
        "\n",
        "# 입력\n",
        "# The_headline_is_the_text_indicating_the_nature_of_the_article_below_it.\n",
        "\n",
        "# 출력\n",
        "# THE_HEADLINE_IS_THE_TEXT_INDICATING_THE_NATURE_OF_THE_ARTICLE_BELOW_IT."
      ]
    },
    {
      "cell_type": "code",
      "source": [
        "data=input()\n",
        "print(data.upper())"
      ],
      "metadata": {
        "colab": {
          "base_uri": "https://localhost:8080/"
        },
        "id": "MmAt4TIiwMfk",
        "outputId": "2edb4df1-9359-4038-9a7a-19125701881d"
      },
      "execution_count": 2,
      "outputs": [
        {
          "output_type": "stream",
          "name": "stdout",
          "text": [
            "The_headline_is_the_text_indicating_the_nature_of_the_article_below_it.\n",
            "THE_HEADLINE_IS_THE_TEXT_INDICATING_THE_NATURE_OF_THE_ARTICLE_BELOW_IT.\n"
          ]
        }
      ]
    },
    {
      "cell_type": "code",
      "source": [
        ""
      ],
      "metadata": {
        "id": "5FRfwnOswbFH"
      },
      "execution_count": null,
      "outputs": []
    }
  ]
}