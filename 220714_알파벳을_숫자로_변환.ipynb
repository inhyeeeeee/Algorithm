{
  "nbformat": 4,
  "nbformat_minor": 0,
  "metadata": {
    "colab": {
      "name": "220713_알파벳을 숫자로 변환.ipynb",
      "provenance": [],
      "authorship_tag": "ABX9TyMU1C7ov69keHr+0S4MCxHk",
      "include_colab_link": true
    },
    "kernelspec": {
      "name": "python3",
      "display_name": "Python 3"
    },
    "language_info": {
      "name": "python"
    }
  },
  "cells": [
    {
      "cell_type": "markdown",
      "metadata": {
        "id": "view-in-github",
        "colab_type": "text"
      },
      "source": [
        "<a href=\"https://colab.research.google.com/github/inhyeeeeee/Algorithm/blob/main/220714_%EC%95%8C%ED%8C%8C%EB%B2%B3%EC%9D%84_%EC%88%AB%EC%9E%90%EB%A1%9C_%EB%B3%80%ED%99%98.ipynb\" target=\"_parent\"><img src=\"https://colab.research.google.com/assets/colab-badge.svg\" alt=\"Open In Colab\"/></a>"
      ]
    },
    {
      "cell_type": "code",
      "execution_count": null,
      "metadata": {
        "id": "tAq4IS29k-Xg"
      },
      "outputs": [],
      "source": [
        "# ※ 출처 : SW Expert 아카데미\n",
        "\n",
        "# 알파벳으로 이루어진 문자열을 입력 받아 각 알파벳을 1부터 26까지의 숫자로 변환하여 출력하라.\n",
        "\n",
        "# [제약 사항]\n",
        "# 문자열의 최대 길이는 200이다.\n",
        "\n",
        "# [입력]\n",
        "# 알파벳으로 이루어진 문자열이 주어진다.\n",
        "\n",
        "# [출력]\n",
        "# 각 알파벳을 숫자로 변환한 결과값을 빈 칸을 두고 출력한다.\n",
        " \n",
        "# 입력\n",
        "# ABCDEFGHIJKLMNOPQRSTUVWXYZ\n",
        "\n",
        "# 출력\n",
        "# 1 2 3 4 5 6 7 8 9 10 11 12 13 14 15 16 17 18 19 20 21 22 23 24 25 26"
      ]
    },
    {
      "cell_type": "code",
      "source": [
        "data = input() # ABCDEFGHIJKLMNOPQRSTUVWXYZ\n",
        "number = [i+1 for i in range(len(data))] # [1, 2, 3, 4, 5, 6, 7, 8, 9, 10, 11, 12, 13, 14, 15, 16, 17, 18, 19, 20, 21, 22, 23, 24, 25, 26] \n",
        "print(*number)"
      ],
      "metadata": {
        "id": "LXbCss0xu6tL",
        "colab": {
          "base_uri": "https://localhost:8080/"
        },
        "outputId": "e6327070-962b-40b4-ffc8-39033998e2f2"
      },
      "execution_count": 7,
      "outputs": [
        {
          "output_type": "stream",
          "name": "stdout",
          "text": [
            "ABCDEFGHIJKLMNOPQRSTUVWXYZ\n",
            "1 2 3 4 5 6 7 8 9 10 11 12 13 14 15 16 17 18 19 20 21 22 23 24 25 26\n"
          ]
        }
      ]
    },
    {
      "cell_type": "code",
      "source": [
        "data = input() # ABCDEFGHIJKLMNOPQRSTUVWXYZ\n",
        "number = [i+1 for i in range(len(data))] # [1, 2, 3, 4, 5, 6, 7, 8, 9, 10, 11, 12, 13, 14, 15, 16, 17, 18, 19, 20, 21, 22, 23, 24, 25, 26] \n",
        "for n in number:\n",
        "  print(n,end=' ')"
      ],
      "metadata": {
        "colab": {
          "base_uri": "https://localhost:8080/"
        },
        "id": "6yKfDMwE7q9Z",
        "outputId": "24fe8508-3341-423c-b437-f71223abde28"
      },
      "execution_count": 6,
      "outputs": [
        {
          "output_type": "stream",
          "name": "stdout",
          "text": [
            "ABCDEFGHIJKLMNOPQRSTUVWXYZ\n",
            "1 2 3 4 5 6 7 8 9 10 11 12 13 14 15 16 17 18 19 20 21 22 23 24 25 26 "
          ]
        }
      ]
    },
    {
      "cell_type": "code",
      "source": [
        "number = [i+1 for i in range(len(input()))] \n",
        "print(*number)"
      ],
      "metadata": {
        "colab": {
          "base_uri": "https://localhost:8080/"
        },
        "id": "C4N51eyu8YT4",
        "outputId": "1d2b7972-6506-4c3f-990d-8cdffd3809f2"
      },
      "execution_count": 10,
      "outputs": [
        {
          "output_type": "stream",
          "name": "stdout",
          "text": [
            "ABCDEFGHIJKLMNOPQRSTUVWXYZ\n",
            "1 2 3 4 5 6 7 8 9 10 11 12 13 14 15 16 17 18 19 20 21 22 23 24 25 26\n"
          ]
        }
      ]
    },
    {
      "cell_type": "code",
      "source": [
        ""
      ],
      "metadata": {
        "id": "7GpzqeGO9vPO"
      },
      "execution_count": null,
      "outputs": []
    }
  ]
}