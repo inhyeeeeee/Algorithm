{
  "nbformat": 4,
  "nbformat_minor": 0,
  "metadata": {
    "colab": {
      "name": "220711_큰 놈, 작은 놈, 같은 놈.ipynb",
      "provenance": [],
      "authorship_tag": "ABX9TyNRF3TAzr90A5oEQL9PfNfK",
      "include_colab_link": true
    },
    "kernelspec": {
      "name": "python3",
      "display_name": "Python 3"
    },
    "language_info": {
      "name": "python"
    }
  },
  "cells": [
    {
      "cell_type": "markdown",
      "metadata": {
        "id": "view-in-github",
        "colab_type": "text"
      },
      "source": [
        "<a href=\"https://colab.research.google.com/github/inhyeeeeee/Algorithm/blob/main/220711_%ED%81%B0_%EB%86%88%2C_%EC%9E%91%EC%9D%80_%EB%86%88%2C_%EA%B0%99%EC%9D%80_%EB%86%88.ipynb\" target=\"_parent\"><img src=\"https://colab.research.google.com/assets/colab-badge.svg\" alt=\"Open In Colab\"/></a>"
      ]
    },
    {
      "cell_type": "code",
      "execution_count": 1,
      "metadata": {
        "id": "nnPp6SxaLBg-"
      },
      "outputs": [],
      "source": [
        "# 출처 : SW Expert 아카데미\n",
        "\n",
        "# 2개의 수를 입력 받아 크기를 비교하여 등호 또는 부등호를 출력하는 프로그램을 작성하라.\n",
        "\n",
        "# [제약 사항]\n",
        "# 각 수는 0 이상 10000 이하의 정수이다.\n",
        "\n",
        "# [입력]\n",
        "# 가장 첫 줄에는 테스트 케이스의 개수 T가 주어지고, 그 아래로 각 테스트 케이스가 주어진다.\n",
        "# 각 테스트 케이스의 첫 번째 줄에는 2개의 수가 주어진다.\n",
        "\n",
        "# [출력]\n",
        "# 출력의 각 줄은 '#t'로 시작하고, 공백을 한 칸 둔 다음 정답을 출력한다.\n",
        "# (t는 테스트 케이스의 번호를 의미하며 1부터 시작한다.)\n",
        " \n",
        "# 입력\n",
        "# 3\n",
        "# 3 8 \n",
        "# 7 7 \n",
        "# 369 123      \n",
        "\n",
        "# 출력\n",
        "# #1 <\n",
        "# #2 =\n",
        "# #3 >"
      ]
    },
    {
      "cell_type": "code",
      "source": [
        "for t in range(int(input())):\n",
        "  data = input().split()\n",
        "  if data[0] > data[1]:\n",
        "    print(f'#{t+1} >')\n",
        "  if data[0] < data[1]:\n",
        "    print(f'#{t+1} <')\n",
        "  if data[0] == data[1]:\n",
        "    print(f'#{t+1} =')"
      ],
      "metadata": {
        "colab": {
          "base_uri": "https://localhost:8080/"
        },
        "id": "RdTRo-pjLTDv",
        "outputId": "71123a23-db38-48e7-bac2-2bf30a15d9ff"
      },
      "execution_count": 4,
      "outputs": [
        {
          "output_type": "stream",
          "name": "stdout",
          "text": [
            "3\n",
            "3 8 \n",
            "#1 <\n",
            "7 7 \n",
            "#2 =\n",
            "369 123 \n",
            "#3 >\n"
          ]
        }
      ]
    }
  ]
}