{
  "nbformat": 4,
  "nbformat_minor": 0,
  "metadata": {
    "colab": {
      "name": "220711_최대수 구하기.ipynb",
      "provenance": [],
      "authorship_tag": "ABX9TyM1PL07YAnCV2wJErZxE9Bt",
      "include_colab_link": true
    },
    "kernelspec": {
      "name": "python3",
      "display_name": "Python 3"
    },
    "language_info": {
      "name": "python"
    }
  },
  "cells": [
    {
      "cell_type": "markdown",
      "metadata": {
        "id": "view-in-github",
        "colab_type": "text"
      },
      "source": [
        "<a href=\"https://colab.research.google.com/github/inhyeeeeee/Algorithm/blob/main/220711_%EC%B5%9C%EB%8C%80%EC%88%98_%EA%B5%AC%ED%95%98%EA%B8%B0.ipynb\" target=\"_parent\"><img src=\"https://colab.research.google.com/assets/colab-badge.svg\" alt=\"Open In Colab\"/></a>"
      ]
    },
    {
      "cell_type": "code",
      "execution_count": 1,
      "metadata": {
        "id": "iX5_ywkDTO4k"
      },
      "outputs": [],
      "source": [
        "# 출처 : SW Expert 아카데미\n",
        "\n",
        "# 10개의 수를 입력 받아, 그 중에서 가장 큰 수를 출력하는 프로그램을 작성하라.\n",
        "\n",
        "# [제약 사항]\n",
        "# 각 수는 0 이상 10000 이하의 정수이다.\n",
        "\n",
        "# [입력]\n",
        "# 가장 첫 줄에는 테스트 케이스의 개수 T가 주어지고, 그 아래로 각 테스트 케이스가 주어진다.\n",
        "# 각 테스트 케이스의 첫 번째 줄에는 10개의 수가 주어진다.\n",
        "\n",
        "# [출력]\n",
        "# 출력의 각 줄은 '#t'로 시작하고, 공백을 한 칸 둔 다음 정답을 출력한다.\n",
        "# (t는 테스트 케이스의 번호를 의미하며 1부터 시작한다.)\n",
        "\n",
        "# 입력\n",
        "# 3 \n",
        "# 3 17 1 39 8 41 2 32 99 2\n",
        "# 22 8 5 123 7 2 63 7 3 46\n",
        "# 6 63 2 3 58 76 21 33 8 1   \n",
        "\n",
        "# 출력\n",
        "# #1 99\n",
        "# #2 123\n",
        "# #3 76"
      ]
    },
    {
      "cell_type": "code",
      "source": [
        "for t in range(int(input())):\n",
        "  data = map(int, input().split())\n",
        "  print(f'#{t+1} {max(data)}')\n",
        "  "
      ],
      "metadata": {
        "colab": {
          "base_uri": "https://localhost:8080/"
        },
        "id": "TtryS41MTgUc",
        "outputId": "980a8ddc-3920-4eea-f78b-c3ce1176cbef"
      },
      "execution_count": 14,
      "outputs": [
        {
          "output_type": "stream",
          "name": "stdout",
          "text": [
            "3\n",
            "3 17 1 39 8 41 2 32 99 2\n",
            "#1 99\n",
            "22 8 5 123 7 2 63 7 3 46\n",
            "#2 123\n",
            "6 63 2 3 58 76 21 33 8 1  \n",
            "#3 76\n"
          ]
        }
      ]
    },
    {
      "cell_type": "code",
      "source": [
        "for t in range(int(input())):\n",
        "  data = map(int, input().split())\n",
        "  print(f'#{t+1} {max(data)}')\n",
        "  print(type(data))"
      ],
      "metadata": {
        "colab": {
          "base_uri": "https://localhost:8080/"
        },
        "id": "bujr8GCUbmoE",
        "outputId": "9b4f8238-94c0-4db5-f81b-0232129c218f"
      },
      "execution_count": 20,
      "outputs": [
        {
          "output_type": "stream",
          "name": "stdout",
          "text": [
            "3\n",
            "3 17 1 39 8 41 2 32 99 2\n",
            "#1 99\n",
            "<class 'map'>\n",
            "22 8 5 123 7 2 63 7 3 46\n",
            "#2 123\n",
            "<class 'map'>\n",
            "6 63 2 3 58 76 21 33 8 1\n",
            "#3 76\n",
            "<class 'map'>\n"
          ]
        }
      ]
    },
    {
      "cell_type": "code",
      "source": [
        "data = ['22', '8', '5', '123', '7', '2', '63', '7', '3', '46']\n",
        "print(max(data))\n",
        "print(type(data))"
      ],
      "metadata": {
        "colab": {
          "base_uri": "https://localhost:8080/"
        },
        "id": "Dgr4Z8GKWcje",
        "outputId": "8c24fe8d-3783-47c0-9bff-2524ceff86a6"
      },
      "execution_count": 18,
      "outputs": [
        {
          "output_type": "stream",
          "name": "stdout",
          "text": [
            "8\n",
            "<class 'list'>\n"
          ]
        }
      ]
    },
    {
      "cell_type": "code",
      "source": [
        "for t in range(int(input())):\n",
        "  data = max([map(int, input().split())])  # map type 주소 출력\n",
        "  print(f'#{t+1} {data}')\n",
        "  print(type(data))"
      ],
      "metadata": {
        "colab": {
          "base_uri": "https://localhost:8080/"
        },
        "id": "DhknGxHjXp25",
        "outputId": "496c2006-7282-41ed-fefc-d079f0ef0893"
      },
      "execution_count": 19,
      "outputs": [
        {
          "output_type": "stream",
          "name": "stdout",
          "text": [
            "1\n",
            "3 17 1 39 8 41 2 32 99 2\n",
            "#1 <map object at 0x7efcb7262550>\n",
            "<class 'map'>\n"
          ]
        }
      ]
    }
  ]
}