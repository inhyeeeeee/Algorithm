{
  "nbformat": 4,
  "nbformat_minor": 0,
  "metadata": {
    "colab": {
      "name": "상하좌우.ipynb",
      "provenance": [],
      "authorship_tag": "ABX9TyMMxvnZfGX/2QQhGNM/ed0s",
      "include_colab_link": true
    },
    "kernelspec": {
      "name": "python3",
      "display_name": "Python 3"
    },
    "language_info": {
      "name": "python"
    }
  },
  "cells": [
    {
      "cell_type": "markdown",
      "metadata": {
        "id": "view-in-github",
        "colab_type": "text"
      },
      "source": [
        "<a href=\"https://colab.research.google.com/github/inhyeeeeee/Algorithm/blob/main/%EC%83%81%ED%95%98%EC%A2%8C%EC%9A%B0.ipynb\" target=\"_parent\"><img src=\"https://colab.research.google.com/assets/colab-badge.svg\" alt=\"Open In Colab\"/></a>"
      ]
    },
    {
      "cell_type": "code",
      "execution_count": 127,
      "metadata": {
        "colab": {
          "base_uri": "https://localhost:8080/"
        },
        "id": "PaNu-uVPGId7",
        "outputId": "74c450be-fb07-4e61-bd33-75e6287fd982"
      },
      "outputs": [
        {
          "output_type": "stream",
          "name": "stdout",
          "text": [
            "5\n",
            "R R R U D D\n",
            "3 4\n"
          ]
        }
      ],
      "source": [
        "# N을 입력받기\n",
        "n = int(input()) # N x N 크기\n",
        "x, y = 1, 1\n",
        "plans = input().split() # 이동계획 LRUD\n",
        "\n",
        "# (x,y)좌표에서 L,R,U,D 에 따른 이동 방향\n",
        "dx = [0,0,-1,1] # x 좌표는 아래, 위방향에 의해서 바뀜\n",
        "dy = [-1,1,0,0] # y 좌표는 왼쪽, 오른쪽 방향에 의해서 바뀜\n",
        "move_types = ['L', 'R', 'U', 'D']\n",
        "\n",
        "# 이동 계획을 하나씩 확인\n",
        "for plan in plans:\n",
        "  # 이동 후 좌표 구하기\n",
        "  for i in range(len(move_types)): # 4 반복\n",
        "    if plan == move_types[i]: # move_type 의 i 와 이동 계획이 같다면\n",
        "      nx = x + dx[i]\n",
        "      ny = y + dy[i]\n",
        "  # 공간을 벗어나는 경우 무시\n",
        "  if nx < 1 or ny < 1 or nx > n or ny > n:\n",
        "    continue\n",
        "  # 이동 수행\n",
        "  x, y = nx, ny\n",
        "\n",
        "print(x, y)"
      ]
    },
    {
      "cell_type": "code",
      "source": [
        ""
      ],
      "metadata": {
        "id": "U6bEUmqXRU9O"
      },
      "execution_count": 125,
      "outputs": []
    },
    {
      "cell_type": "code",
      "source": [
        ""
      ],
      "metadata": {
        "id": "jagrgCiRgPub"
      },
      "execution_count": 115,
      "outputs": []
    },
    {
      "cell_type": "code",
      "source": [
        ""
      ],
      "metadata": {
        "id": "rLwoC7plQuu1"
      },
      "execution_count": null,
      "outputs": []
    },
    {
      "cell_type": "code",
      "source": [
        ""
      ],
      "metadata": {
        "id": "Ur_GT1i3gQVz"
      },
      "execution_count": 115,
      "outputs": []
    }
  ]
}