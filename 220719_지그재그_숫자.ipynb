{
  "nbformat": 4,
  "nbformat_minor": 0,
  "metadata": {
    "colab": {
      "name": "220719_지그재그 숫자.ipynb",
      "provenance": [],
      "authorship_tag": "ABX9TyMLdX5Gi2NFSQHrvXzPyxst",
      "include_colab_link": true
    },
    "kernelspec": {
      "name": "python3",
      "display_name": "Python 3"
    },
    "language_info": {
      "name": "python"
    }
  },
  "cells": [
    {
      "cell_type": "markdown",
      "metadata": {
        "id": "view-in-github",
        "colab_type": "text"
      },
      "source": [
        "<a href=\"https://colab.research.google.com/github/inhyeeeeee/Algorithm/blob/main/220719_%EC%A7%80%EA%B7%B8%EC%9E%AC%EA%B7%B8_%EC%88%AB%EC%9E%90.ipynb\" target=\"_parent\"><img src=\"https://colab.research.google.com/assets/colab-badge.svg\" alt=\"Open In Colab\"/></a>"
      ]
    },
    {
      "cell_type": "code",
      "execution_count": 1,
      "metadata": {
        "id": "6VoLZjc-f2De"
      },
      "outputs": [],
      "source": [
        "# ※ SW Expert 아카데미\n",
        "# 부터 N까지의 숫자에서 홀수는 더하고 짝수는 뺐을 때 최종 누적된 값을 구해보자.\n",
        "\n",
        "# [예제 풀이]\n",
        "# N이 5일 경우,\n",
        "# 1 – 2 + 3 – 4 + 5 = 3\n",
        "\n",
        "# N이 6일 경우,\n",
        "# 1 – 2 + 3 – 4 + 5 – 6 = -3\n",
        "\n",
        "# [제약사항]\n",
        "# N은 1 이상 10 이하의 정수이다. (1 ≤ N ≤ 10)\n",
        "\n",
        "# [입력]\n",
        "# 가장 첫 줄에는 테스트 케이스의 개수 T가 주어지고, 그 아래로 각 테스트 케이스가 주어진다.\n",
        "# 각 테스트 케이스에는 N이 주어진다.\n",
        "\n",
        "# [출력]\n",
        "# 각 줄은 '#t'로 시작하고, 공백을 한 칸 둔 다음 누적된 값을 출력한다.\n",
        "# (t는 테스트 케이스의 번호를 의미하며 1부터 시작한다.)\n",
        "\n",
        "# 입력\n",
        "# 2\n",
        "# 5\n",
        "# 6\n",
        "\n",
        "# 출력\n",
        "# #1 3\n",
        "# #2 -3\n"
      ]
    },
    {
      "cell_type": "code",
      "source": [
        "for t in range(int(input())):\n",
        "  output = 0\n",
        "  for i in range(1, int(input())+1):\n",
        "    if i%2 == 1:\n",
        "      output +=i\n",
        "    elif i%2 == 0:\n",
        "      output -=i\n",
        "\n",
        "  print(f'#{t+1} {output}')"
      ],
      "metadata": {
        "colab": {
          "base_uri": "https://localhost:8080/"
        },
        "id": "04rL9tp6gPVK",
        "outputId": "5bfc5c30-5b63-4bde-889a-8d68f26a6e8c"
      },
      "execution_count": 6,
      "outputs": [
        {
          "output_type": "stream",
          "name": "stdout",
          "text": [
            "2\n",
            "5\n",
            "#1 3\n",
            "6\n",
            "#2 -3\n"
          ]
        }
      ]
    }
  ]
}