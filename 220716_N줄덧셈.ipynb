{
  "nbformat": 4,
  "nbformat_minor": 0,
  "metadata": {
    "colab": {
      "name": "220716_N줄덧셈.ipynb",
      "provenance": [],
      "authorship_tag": "ABX9TyM9Bz4IMcpGnyQQmyC29Npy",
      "include_colab_link": true
    },
    "kernelspec": {
      "name": "python3",
      "display_name": "Python 3"
    },
    "language_info": {
      "name": "python"
    }
  },
  "cells": [
    {
      "cell_type": "markdown",
      "metadata": {
        "id": "view-in-github",
        "colab_type": "text"
      },
      "source": [
        "<a href=\"https://colab.research.google.com/github/inhyeeeeee/Algorithm/blob/main/220716_N%EC%A4%84%EB%8D%A7%EC%85%88.ipynb\" target=\"_parent\"><img src=\"https://colab.research.google.com/assets/colab-badge.svg\" alt=\"Open In Colab\"/></a>"
      ]
    },
    {
      "cell_type": "code",
      "execution_count": 1,
      "metadata": {
        "id": "rOkFxY2dWf8Y"
      },
      "outputs": [],
      "source": [
        "# ※ 출처 : SW Expert 아카데미\n",
        "\n",
        "# 1부터 주어진 숫자만큼 모두 더한 값을 출력하시오.\n",
        "# 단, 주어질 숫자는 10000을 넘지 않는다.\n",
        "\n",
        "# [예제]\n",
        "# 주어진 숫자가 10 일 경우 출력해야 할 정답은,\n",
        "# 1 + 2 + 3 + 4 + 5 + 6 + 7 + 8 + 9 + 10 = 55\n",
        " \n",
        "# 입력\n",
        "# 10\n",
        "\n",
        "# 출력\n",
        "# 55"
      ]
    },
    {
      "cell_type": "code",
      "source": [
        "print(sum([i+1 for i in range(int(input()))])) # 리스트"
      ],
      "metadata": {
        "colab": {
          "base_uri": "https://localhost:8080/"
        },
        "id": "O0B5mKFzWnVG",
        "outputId": "c8ffb519-b9e9-4aa3-f17f-aacfdcf5073f"
      },
      "execution_count": 32,
      "outputs": [
        {
          "output_type": "stream",
          "name": "stdout",
          "text": [
            "10\n",
            "55\n"
          ]
        }
      ]
    },
    {
      "cell_type": "code",
      "source": [
        "data = (i+1 for i in range(int(input())))\n",
        "print(data)"
      ],
      "metadata": {
        "colab": {
          "base_uri": "https://localhost:8080/"
        },
        "id": "iyeC-9UIZkNi",
        "outputId": "c5444008-cc73-428f-d2fb-f673f59939e0"
      },
      "execution_count": 39,
      "outputs": [
        {
          "output_type": "stream",
          "name": "stdout",
          "text": [
            "10\n",
            "<generator object <genexpr> at 0x7f3552bdf350>\n"
          ]
        }
      ]
    },
    {
      "cell_type": "code",
      "source": [
        "print(sum(i+1 for i in range(int(input())))) # 괄호"
      ],
      "metadata": {
        "colab": {
          "base_uri": "https://localhost:8080/"
        },
        "id": "-y-RVmIraKPp",
        "outputId": "42140bb2-6a20-45fd-f7a9-2470792d0095"
      },
      "execution_count": 37,
      "outputs": [
        {
          "output_type": "stream",
          "name": "stdout",
          "text": [
            "10\n",
            "55\n"
          ]
        }
      ]
    }
  ]
}