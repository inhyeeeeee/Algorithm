{
  "nbformat": 4,
  "nbformat_minor": 0,
  "metadata": {
    "colab": {
      "name": "시각.ipynb",
      "provenance": [],
      "authorship_tag": "ABX9TyN4QMMopmwE8Dr7LR9UcP5f",
      "include_colab_link": true
    },
    "kernelspec": {
      "name": "python3",
      "display_name": "Python 3"
    },
    "language_info": {
      "name": "python"
    }
  },
  "cells": [
    {
      "cell_type": "markdown",
      "metadata": {
        "id": "view-in-github",
        "colab_type": "text"
      },
      "source": [
        "<a href=\"https://colab.research.google.com/github/inhyeeeeee/Algorithm/blob/main/%EC%8B%9C%EA%B0%81.ipynb\" target=\"_parent\"><img src=\"https://colab.research.google.com/assets/colab-badge.svg\" alt=\"Open In Colab\"/></a>"
      ]
    },
    {
      "cell_type": "code",
      "execution_count": 128,
      "metadata": {
        "colab": {
          "base_uri": "https://localhost:8080/"
        },
        "id": "PaNu-uVPGId7",
        "outputId": "41190ce9-135f-472e-8a01-75982b1851d3"
      },
      "outputs": [
        {
          "output_type": "stream",
          "name": "stdout",
          "text": [
            "5\n",
            "11475\n"
          ]
        }
      ],
      "source": [
        "# hour 입력 받기\n",
        "time = int(input())\n",
        "\n",
        "count = 0\n",
        "for h in range(time+1): # 입력받은 hour 까지의 범위\n",
        "  for m in range(60): # minute\n",
        "    for s in range(60): # second\n",
        "      # 매 시각 안에 '3' 이 포함되어 있다면 카운트 증가\n",
        "      if '3' in str(h) + str(m) + str(s):\n",
        "        count += 1\n",
        "\n",
        "print(count)"
      ]
    },
    {
      "cell_type": "code",
      "source": [
        ""
      ],
      "metadata": {
        "id": "U6bEUmqXRU9O"
      },
      "execution_count": 125,
      "outputs": []
    }
  ]
}