{
  "nbformat": 4,
  "nbformat_minor": 0,
  "metadata": {
    "colab": {
      "name": "왕실의 나이트.ipynb",
      "provenance": [],
      "authorship_tag": "ABX9TyOlMfa4qsWdrn2UwGV00iNg",
      "include_colab_link": true
    },
    "kernelspec": {
      "name": "python3",
      "display_name": "Python 3"
    },
    "language_info": {
      "name": "python"
    }
  },
  "cells": [
    {
      "cell_type": "markdown",
      "metadata": {
        "id": "view-in-github",
        "colab_type": "text"
      },
      "source": [
        "<a href=\"https://colab.research.google.com/github/inhyeeeeee/Algorithm/blob/main/%EC%99%95%EC%8B%A4%EC%9D%98_%EB%82%98%EC%9D%B4%ED%8A%B8.ipynb\" target=\"_parent\"><img src=\"https://colab.research.google.com/assets/colab-badge.svg\" alt=\"Open In Colab\"/></a>"
      ]
    },
    {
      "cell_type": "code",
      "execution_count": 132,
      "metadata": {
        "colab": {
          "base_uri": "https://localhost:8080/"
        },
        "id": "PaNu-uVPGId7",
        "outputId": "18539214-170d-4d12-9d4e-6bb247e27f48"
      },
      "outputs": [
        {
          "output_type": "stream",
          "name": "stdout",
          "text": [
            "c2\n",
            "6\n"
          ]
        }
      ],
      "source": [
        "# 현재 나이트의 위치 입력받기\n",
        "input_data = input()\n",
        "row = int(input_data[1]) # 행(숫자)\n",
        "column = int(ord(input_data[0])) - int(ord('a')) + 1 # 열(알파벳 > 숫자 변환) (입력받은 알파벳의 유티코드 값 - a의 유니코드 값 + 1)\n",
        "\n",
        "# 나이트가 이동할 수 있는 8가지 방향 정의\n",
        "steps = [(-2,-1), (-2,1), (2,-1), (2,1), (-1,-2), (-1,2), (1,-2), (1,2)]\n",
        "\n",
        "# 8가지 방향에 대하여 각 위치로 이동이 가능한지 확인\n",
        "result = 0\n",
        "for step in steps:\n",
        "  # 이동하고자 하는 위치 확인\n",
        "  next_row = row + step[0]\n",
        "  next_column = column +step[1]\n",
        "  # 해당 위치로 이동이 가능하다면 카운트 증가\n",
        "  if 1 <= next_row <= 8 and 1 <= next_column <= 8:\n",
        "    result += 1\n",
        "\n",
        "print(result)"
      ]
    },
    {
      "cell_type": "code",
      "source": [
        ""
      ],
      "metadata": {
        "id": "U6bEUmqXRU9O"
      },
      "execution_count": 125,
      "outputs": []
    }
  ]
}