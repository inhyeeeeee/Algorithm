{
  "nbformat": 4,
  "nbformat_minor": 0,
  "metadata": {
    "colab": {
      "name": "220715_몫과 나머지 출력하기 .ipynb",
      "provenance": [],
      "authorship_tag": "ABX9TyMhkTcox2Bhf+uXb9SgmqOA",
      "include_colab_link": true
    },
    "kernelspec": {
      "name": "python3",
      "display_name": "Python 3"
    },
    "language_info": {
      "name": "python"
    }
  },
  "cells": [
    {
      "cell_type": "markdown",
      "metadata": {
        "id": "view-in-github",
        "colab_type": "text"
      },
      "source": [
        "<a href=\"https://colab.research.google.com/github/inhyeeeeee/Algorithm/blob/main/220715_%EB%AA%AB%EA%B3%BC_%EB%82%98%EB%A8%B8%EC%A7%80_%EC%B6%9C%EB%A0%A5%ED%95%98%EA%B8%B0_.ipynb\" target=\"_parent\"><img src=\"https://colab.research.google.com/assets/colab-badge.svg\" alt=\"Open In Colab\"/></a>"
      ]
    },
    {
      "cell_type": "code",
      "execution_count": null,
      "metadata": {
        "id": "PZN3qX6G-rKZ"
      },
      "outputs": [],
      "source": [
        "# ※ 출처 : SW Expert 아카데미\n",
        "\n",
        "# 2개의 수 a, b를 입력 받아, a를 b로 나눈 몫과 나머지를 출력하는 프로그램을 작성하라.\n",
        "\n",
        "# [제약 사항]\n",
        "# 각 수는 1이상 10000이하의 정수이다.\n",
        "\n",
        "# [입력]\n",
        "# 가장 첫 줄에는 테스트 케이스의 개수 T가 주어지고, 그 아래로 각 테스트 케이스가 주어진다.\n",
        "# 각 테스트 케이스의 첫 번째 줄에는 2개의 수가 주어진다.\n",
        "\n",
        "# [출력]\n",
        "# 출력의 각 줄은 '#t'로 시작하고 공백을 한 칸 둔 다음, 몫을 출력하고 공백을 한 칸 둔 다음 나머지를 출력한다.\n",
        "# (t는 테스트 케이스의 번호를 의미하며 1부터 시작한다.)\n",
        "\n",
        "# 입력\n",
        "# 3   \n",
        "# 9 2  \n",
        "# 15 6 \n",
        "# 369 15        \n",
        "\n",
        "# 출력\n",
        "# #1 4 1\n",
        "# #2 2 3\n",
        "# #3 24 9"
      ]
    },
    {
      "cell_type": "code",
      "source": [
        "for t in range(int(input())):\n",
        "  a, b = map(int, input().split())\n",
        "  print(f'#{t+1}', a//b, a%b)"
      ],
      "metadata": {
        "colab": {
          "base_uri": "https://localhost:8080/"
        },
        "id": "vpKOQNIb-yLM",
        "outputId": "2b377641-6417-462a-d399-50d8ae651d84"
      },
      "execution_count": 20,
      "outputs": [
        {
          "output_type": "stream",
          "name": "stdout",
          "text": [
            "3\n",
            "9 2\n",
            "#1 4 1\n",
            "15 6\n",
            "#2 2 3\n",
            "369 15\n",
            "#3 24 9\n"
          ]
        }
      ]
    },
    {
      "cell_type": "code",
      "source": [
        "a, b = map(int, input().split())\n",
        "print(a)\n",
        "print(b)"
      ],
      "metadata": {
        "id": "9gyDIyhP_e_f",
        "colab": {
          "base_uri": "https://localhost:8080/"
        },
        "outputId": "82ea9462-55ae-4088-e1ce-298928651579"
      },
      "execution_count": 11,
      "outputs": [
        {
          "output_type": "stream",
          "name": "stdout",
          "text": [
            "9 2\n",
            "9\n",
            "2\n"
          ]
        }
      ]
    },
    {
      "cell_type": "code",
      "source": [
        ""
      ],
      "metadata": {
        "colab": {
          "base_uri": "https://localhost:8080/"
        },
        "id": "FLm9z7UjAEhS",
        "outputId": "db650390-996e-4240-f449-09880eb2630d"
      },
      "execution_count": 7,
      "outputs": [
        {
          "output_type": "stream",
          "name": "stdout",
          "text": [
            "100\n"
          ]
        }
      ]
    }
  ]
}