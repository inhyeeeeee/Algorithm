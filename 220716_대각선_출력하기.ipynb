{
  "nbformat": 4,
  "nbformat_minor": 0,
  "metadata": {
    "colab": {
      "name": "220716_대각선 출력하기.ipynb",
      "provenance": [],
      "authorship_tag": "ABX9TyMCw0Q3E/NMKMmFWizyy3wD",
      "include_colab_link": true
    },
    "kernelspec": {
      "name": "python3",
      "display_name": "Python 3"
    },
    "language_info": {
      "name": "python"
    }
  },
  "cells": [
    {
      "cell_type": "markdown",
      "metadata": {
        "id": "view-in-github",
        "colab_type": "text"
      },
      "source": [
        "<a href=\"https://colab.research.google.com/github/inhyeeeeee/Algorithm/blob/main/220716_%EB%8C%80%EA%B0%81%EC%84%A0_%EC%B6%9C%EB%A0%A5%ED%95%98%EA%B8%B0.ipynb\" target=\"_parent\"><img src=\"https://colab.research.google.com/assets/colab-badge.svg\" alt=\"Open In Colab\"/></a>"
      ]
    },
    {
      "cell_type": "code",
      "execution_count": 1,
      "metadata": {
        "id": "rOkFxY2dWf8Y"
      },
      "outputs": [],
      "source": [
        "# ※ 출처 : SW Expert 아카데미\n",
        "\n",
        "# 주어진 텍스트를 그대로 출력하세요.\n",
        " \n",
        "# 입력\n",
        "\n",
        "# 출력\n",
        "# #++++\n",
        "# +#+++\n",
        "# ++#++\n",
        "# +++#+\n",
        "# ++++#"
      ]
    },
    {
      "cell_type": "code",
      "source": [
        "for i in range(5):\n",
        "  for j in range(5):\n",
        "    if i == j:\n",
        "      print('#', end='')\n",
        "    else:\n",
        "      print('+', end='')\n",
        "  print()"
      ],
      "metadata": {
        "colab": {
          "base_uri": "https://localhost:8080/"
        },
        "id": "O0B5mKFzWnVG",
        "outputId": "1bf9c8a0-a491-4d3c-c966-9363957fe26f"
      },
      "execution_count": 14,
      "outputs": [
        {
          "output_type": "stream",
          "name": "stdout",
          "text": [
            "#++++\n",
            "+#+++\n",
            "++#++\n",
            "+++#+\n",
            "++++#\n"
          ]
        }
      ]
    },
    {
      "cell_type": "code",
      "source": [
        ""
      ],
      "metadata": {
        "id": "iyeC-9UIZkNi"
      },
      "execution_count": 4,
      "outputs": []
    },
    {
      "cell_type": "code",
      "source": [
        ""
      ],
      "metadata": {
        "id": "-y-RVmIraKPp"
      },
      "execution_count": null,
      "outputs": []
    }
  ]
}