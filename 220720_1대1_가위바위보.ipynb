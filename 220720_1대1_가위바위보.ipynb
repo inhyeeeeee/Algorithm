{
  "nbformat": 4,
  "nbformat_minor": 0,
  "metadata": {
    "colab": {
      "name": "220720_1대1 가위바위보.ipynb",
      "provenance": [],
      "authorship_tag": "ABX9TyNvremrBhLubNMKyVKGla5a",
      "include_colab_link": true
    },
    "kernelspec": {
      "name": "python3",
      "display_name": "Python 3"
    },
    "language_info": {
      "name": "python"
    }
  },
  "cells": [
    {
      "cell_type": "markdown",
      "metadata": {
        "id": "view-in-github",
        "colab_type": "text"
      },
      "source": [
        "<a href=\"https://colab.research.google.com/github/inhyeeeeee/Algorithm/blob/main/220720_1%EB%8C%801_%EA%B0%80%EC%9C%84%EB%B0%94%EC%9C%84%EB%B3%B4.ipynb\" target=\"_parent\"><img src=\"https://colab.research.google.com/assets/colab-badge.svg\" alt=\"Open In Colab\"/></a>"
      ]
    },
    {
      "cell_type": "code",
      "execution_count": 1,
      "metadata": {
        "id": "ayUl25LYAAtw"
      },
      "outputs": [],
      "source": [
        "# ※ 출처 : SW Expert 아카데미 \n",
        "\n",
        "# A와 B가 가위바위보를 하였다.\n",
        "# 가위는 1, 바위는 2, 보는 3으로 표현되며 A와 B가 무엇을 냈는지 입력으로 주어진다.\n",
        "# A와 B중에 누가 이겼는지 판별해보자. 단, 비기는 경우는 없다.\n",
        "\n",
        "# [입력]\n",
        "# 입력으로 A와 B가 무엇을 냈는지 빈 칸을 사이로 주어진다. \n",
        "\n",
        "# [출력]\n",
        "# A가 이기면 A, B가 이기면 B를 출력한다.\n",
        "\n",
        "# 입력\n",
        "# 3 2\n",
        "\n",
        "# 출력\n",
        "# A"
      ]
    },
    {
      "cell_type": "code",
      "source": [
        "i, j = map(int,input().split())\n",
        "if i > j:\n",
        "  print('A')\n",
        "if i < j :\n",
        "  print('B')"
      ],
      "metadata": {
        "colab": {
          "base_uri": "https://localhost:8080/"
        },
        "id": "u3l7VnquARNn",
        "outputId": "217e898f-4c18-4efe-fd60-f8d2d49eb6cf"
      },
      "execution_count": 8,
      "outputs": [
        {
          "output_type": "stream",
          "name": "stdout",
          "text": [
            "3 2\n",
            "A\n"
          ]
        }
      ]
    }
  ]
}